{
 "cells": [
  {
   "cell_type": "code",
   "execution_count": 1,
   "id": "c7ba693a-f73d-4536-88bc-e6e3b5332a9f",
   "metadata": {},
   "outputs": [
    {
     "name": "stdout",
     "output_type": "stream",
     "text": [
      "hishk24\n"
     ]
    }
   ],
   "source": [
    "a= \"hi\"\n",
    "b= \"shk24\"\n",
    "c= a + b\n",
    "c_str = str(c)\n",
    "print (c_str)"
   ]
  },
  {
   "cell_type": "code",
   "execution_count": 2,
   "id": "a9f08537-61ef-49f0-a28f-8afe73063bcf",
   "metadata": {
    "editable": true,
    "slideshow": {
     "slide_type": ""
    },
    "tags": []
   },
   "outputs": [
    {
     "name": "stdin",
     "output_type": "stream",
     "text": [
      "typeanything howww are youuo\n"
     ]
    },
    {
     "name": "stdout",
     "output_type": "stream",
     "text": [
      "howww are youuohowww are youuohowww are youuohowww are youuohowww are youuo\n"
     ]
    }
   ],
   "source": [
    "test = input(\"typeanything\")\n",
    "print (5*test)"
   ]
  },
  {
   "cell_type": "code",
   "execution_count": null,
   "id": "8cf557b3-ab05-4177-8b50-36acd753c2f2",
   "metadata": {},
   "outputs": [],
   "source": []
  }
 ],
 "metadata": {
  "kernelspec": {
   "display_name": "Python 3 (ipykernel)",
   "language": "python",
   "name": "python3"
  },
  "language_info": {
   "codemirror_mode": {
    "name": "ipython",
    "version": 3
   },
   "file_extension": ".py",
   "mimetype": "text/x-python",
   "name": "python",
   "nbconvert_exporter": "python",
   "pygments_lexer": "ipython3",
   "version": "3.10.8"
  }
 },
 "nbformat": 4,
 "nbformat_minor": 5
}

{
 "cells": [
  {
   "cell_type": "code",
   "execution_count": 3,
   "id": "c71ebf67-4d95-4820-988b-865506631d0b",
   "metadata": {
    "editable": true,
    "slideshow": {
     "slide_type": ""
    },
    "tags": []
   },
   "outputs": [
    {
     "name": "stdout",
     "output_type": "stream",
     "text": [
      "hishk24\n"
     ]
    }
   ],
   "source": [
    "a= \"hi\"\n",
    "b= \"shk24\"\n",
    "c= a + b\n",
    "c_str = str(c)\n",
    "print (c_str)"
   ]
  },
  {
   "cell_type": "code",
   "execution_count": 4,
   "id": "a9f08537-61ef-49f0-a28f-8afe73063bcf",
   "metadata": {
    "editable": true,
    "slideshow": {
     "slide_type": ""
    },
    "tags": []
   },
   "outputs": [
    {
     "name": "stdin",
     "output_type": "stream",
     "text": [
      "typeanything how do \n"
     ]
    },
    {
     "name": "stdout",
     "output_type": "stream",
     "text": [
      "how do how do how do how do how do \n"
     ]
    }
   ],
   "source": [
    "test = input(\"typeanything\")\n",
    "print (5*test)"
   ]
  },
  {
   "cell_type": "code",
   "execution_count": 5,
   "id": "8cf557b3-ab05-4177-8b50-36acd753c2f2",
   "metadata": {},
   "outputs": [
    {
     "name": "stdin",
     "output_type": "stream",
     "text": [
      "type float value of x 3\n",
      "type y value 4\n"
     ]
    },
    {
     "name": "stdout",
     "output_type": "stream",
     "text": [
      "y is greater\n"
     ]
    }
   ],
   "source": [
    "x=float(input(\"type float value of x\"))\n",
    "y=float(input(\"type y value\"))\n",
    "if x==y:\n",
    "    print(\"X\", x, \"and Y\" ,y ,\"are equal\")\n",
    "elif x > y:\n",
    "    print (\"X is greater\")\n",
    "else:\n",
    "    print (\"y is greater\")"
   ]
  },
  {
   "cell_type": "code",
   "execution_count": 6,
   "id": "36d8e3ef-64b4-4e77-b666-118265fad8a6",
   "metadata": {},
   "outputs": [
    {
     "name": "stdin",
     "output_type": "stream",
     "text": [
      "typeanything 4\n"
     ]
    }
   ],
   "source": [
    "test = int(input(\"typeanything\"))\n",
    "x=test\n",
    "while test < 4: \n",
    "    print (x)\n",
    "    x = x+1\n"
   ]
  },
  {
   "cell_type": "code",
   "execution_count": 7,
   "id": "3870e309-60c4-4288-b677-6a37c18d5013",
   "metadata": {},
   "outputs": [
    {
     "data": {
      "text/plain": [
       "9"
      ]
     },
     "execution_count": 7,
     "metadata": {},
     "output_type": "execute_result"
    }
   ],
   "source": [
    "\n",
    "# Define the symbol\n",
    "x = symbols('x')\n",
    "# Define an expression\n",
    "expression = 2*x - 1\n",
    "# Substitute 5 for x\n",
    "expression.subs(x, 5)\n",
    "Rational(1, 3)\n",
    "expr = sqrt(2)\n",
    "expr.evalf()\n",
    "3**2"
   ]
  },
  {
   "cell_type": "code",
   "execution_count": 2,
   "id": "21cd9985-6ad5-487c-b729-45aac8ed9017",
   "metadata": {},
   "outputs": [
    {
     "data": {
      "text/latex": [
       "$\\displaystyle 48$"
      ],
      "text/plain": [
       "48"
      ]
     },
     "execution_count": 2,
     "metadata": {},
     "output_type": "execute_result"
    }
   ],
   "source": [
    "from sympy import *\n",
    "x= Symbol (\"x\")\n",
    "x+x**2\n",
    "x,y,z = symbols(\"x,y,z\")\n",
    "a=x*y+y*x\n",
    "a.expand()\n",
    "g=(x**2-y**2)\n",
    "g\n",
    "#to look as factor use factor function\n",
    "g.factor()\n",
    "#Substitute function\n",
    "f=8*x**2+2*x**3\n",
    "f.subs(x,2)"
   ]
  },
  {
   "cell_type": "code",
   "execution_count": 3,
   "id": "af33646b-1832-4b15-8170-58363c14f77a",
   "metadata": {},
   "outputs": [
    {
     "data": {
      "text/latex": [
       "$\\displaystyle 2 x^{2} \\left(x + 4\\right)$"
      ],
      "text/plain": [
       "2*x**2*(x + 4)"
      ]
     },
     "execution_count": 3,
     "metadata": {},
     "output_type": "execute_result"
    }
   ],
   "source": [
    "f.factor()"
   ]
  },
  {
   "cell_type": "code",
   "execution_count": 4,
   "id": "02b2ff4b-2491-45e1-815d-73db6cd391d0",
   "metadata": {},
   "outputs": [
    {
     "data": {
      "text/latex": [
       "$\\displaystyle 2 x^{2} \\left(x + 4\\right)$"
      ],
      "text/plain": [
       "2*x**2*(x + 4)"
      ]
     },
     "execution_count": 4,
     "metadata": {},
     "output_type": "execute_result"
    }
   ],
   "source": [
    "f.simplify()"
   ]
  },
  {
   "cell_type": "code",
   "execution_count": 1,
   "id": "06315632-2760-4151-9e69-dac9fe5f9c0b",
   "metadata": {},
   "outputs": [
    {
     "name": "stdout",
     "output_type": "stream",
     "text": [
      "Yes, you've installed Python correctly.\n"
     ]
    }
   ],
   "source": [
    "#Starting Edx -DelftX+MathMod1x\n",
    "############################\n",
    "\n",
    "N = 5\n",
    "\n",
    "for i in range(1,10):\n",
    "\n",
    "    N = N + i\n",
    "\n",
    "if (N == 50):\n",
    "\n",
    "    print(\"Yes, you've installed Python correctly.\")\n",
    "\n",
    "else:\n",
    "\n",
    "    print(\"Something is wrong.\")"
   ]
  },
  {
   "cell_type": "code",
   "execution_count": 2,
   "id": "523cade3-fbc3-4681-9f96-bc78b59d5be0",
   "metadata": {},
   "outputs": [
    {
     "name": "stdout",
     "output_type": "stream",
     "text": [
      "[-1.  -0.8 -0.6 -0.4 -0.2  0.   0.2  0.4  0.6  0.8  1. ]\n",
      "\n",
      "\n",
      "Do see a list of values? Numpy has been installed correctly!\n"
     ]
    },
    {
     "name": "stdin",
     "output_type": "stream",
     "text": [
      "\n",
      "\n",
      "Press ENTER to continue... \n"
     ]
    },
    {
     "name": "stdout",
     "output_type": "stream",
     "text": [
      "\n",
      "\n",
      "Do you see the graph of two functions?\n",
      "\n"
     ]
    },
    {
     "data": {
      "image/png": "[encoded data removed]",
      "text/plain": [
       "<Figure size 640x480 with 1 Axes>"
      ]
     },
     "metadata": {},
     "output_type": "display_data"
    },
    {
     "name": "stdout",
     "output_type": "stream",
     "text": [
      "\n",
      "\n",
      "Matplotlib has been installed correctly!\n"
     ]
    }
   ],
   "source": [
    "\"\"\"\n",
    "Python program to test whether numpy and matplotlib have been installed correctly.\n",
    "\"\"\"\n",
    "\n",
    "import numpy as np\n",
    "import matplotlib.pyplot as plt\n",
    "\n",
    "a = -1\n",
    "b = 1\n",
    "N = 101\n",
    "x = np.linspace(a,b,N)\n",
    "y = x**2\n",
    "print(x[range(0,N,10)])\n",
    "# If there is a problem: use print(x[list(range(0,N,10))]) instead.\n",
    "print(\"\\n\\nDo see a list of values? \\\n",
    "Numpy has been installed correctly!\")\n",
    "\n",
    "\n",
    "input(\"\\n\\nPress ENTER to continue...\")\n",
    "# In Python 2.7, use raw_input(\"\\n\\nPress ENTER to continue...\")\n",
    "\n",
    "print(\"\\n\\nDo you see the graph of two functions?\\n\")\n",
    "# Don't you see it? Sometimes (when you are not using Spyder), \n",
    "# the graph is hidden behind a document or minimized.\n",
    "# In the last case you need to have a look at your taskbar.\n",
    "# Close the plot, when you want to continue.\n",
    "\n",
    "plt.figure(1)\n",
    "plt.plot(x,y,color = \"violet\", label = \"$f(x)=x^2$\")\n",
    "plt.plot(x,-y,color = \"red\", label = \"$g(x)=-x^2$\")\n",
    "plt.xlim([-1,1])\n",
    "plt.axis(\"equal\")\n",
    "plt.xlabel(\"$x$-values\")\n",
    "plt.ylabel(\"$y$-values\")\n",
    "plt.title(\"Plot of two graphs\")\n",
    "plt.legend(loc = \"upper right\", shadow = True)\n",
    "plt.show()\n",
    "print(\"\\n\\nMatplotlib has been installed correctly!\")"
   ]
  },
  {
   "cell_type": "code",
   "execution_count": 2,
   "id": "831ee983-1447-449c-beb6-f38c6a9dc15a",
   "metadata": {},
   "outputs": [],
   "source": [
    "a=1\n",
    "b=2"
   ]
  },
  {
   "cell_type": "code",
   "execution_count": null,
   "id": "6982ad48-5969-4891-b03d-26f66a36ad3f",
   "metadata": {
    "editable": true,
    "slideshow": {
     "slide_type": ""
    },
    "tags": []
   },
   "outputs": [],
   "source": []
  }
 ],
 "metadata": {
  "kernelspec": {
   "display_name": "Python 3 (ipykernel)",
   "language": "python",
   "name": "python3"
  },
  "language_info": {
   "codemirror_mode": {
    "name": "ipython",
    "version": 3
   },
   "file_extension": ".py",
   "mimetype": "text/x-python",
   "name": "python",
   "nbconvert_exporter": "python",
   "pygments_lexer": "ipython3",
   "version": "3.10.8"
  }
 },
 "nbformat": 4,
 "nbformat_minor": 5
}
